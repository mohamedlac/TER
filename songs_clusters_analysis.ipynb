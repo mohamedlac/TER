{
 "cells": [
  {
   "cell_type": "markdown",
   "metadata": {},
   "source": [
    "## Clusters Analysis"
   ]
  },
  {
   "cell_type": "code",
   "execution_count": 1,
   "metadata": {},
   "outputs": [],
   "source": [
    "import numpy as np\n",
    "import pandas as pd\n",
    "import seaborn as sns\n",
    "import matplotlib.pyplot as plt\n"
   ]
  },
  {
   "cell_type": "code",
   "execution_count": 4,
   "metadata": {},
   "outputs": [],
   "source": [
    "data = pd.read_csv(\"data/songs_clustered.csv\" ,names = [\"frequency\",\"popularity\",\"mean\",\"median\",\"cluster\"])"
   ]
  },
  {
   "cell_type": "code",
   "execution_count": 11,
   "metadata": {},
   "outputs": [],
   "source": [
    "data[\"song_id\"] =  np.arange(len(data))\n",
    "data.head(10)\n",
    "data.to_csv(\"data/songs_clustered.csv\",header=None)"
   ]
  },
  {
   "cell_type": "code",
   "execution_count": 6,
   "metadata": {},
   "outputs": [
    {
     "data": {
      "text/html": [
       "<div>\n",
       "<style scoped>\n",
       "    .dataframe tbody tr th:only-of-type {\n",
       "        vertical-align: middle;\n",
       "    }\n",
       "\n",
       "    .dataframe tbody tr th {\n",
       "        vertical-align: top;\n",
       "    }\n",
       "\n",
       "    .dataframe thead tr th {\n",
       "        text-align: left;\n",
       "    }\n",
       "\n",
       "    .dataframe thead tr:last-of-type th {\n",
       "        text-align: right;\n",
       "    }\n",
       "</style>\n",
       "<table border=\"1\" class=\"dataframe\">\n",
       "  <thead>\n",
       "    <tr>\n",
       "      <th></th>\n",
       "      <th colspan=\"8\" halign=\"left\">frequency</th>\n",
       "      <th colspan=\"2\" halign=\"left\">mean</th>\n",
       "      <th>...</th>\n",
       "      <th colspan=\"2\" halign=\"left\">median</th>\n",
       "      <th colspan=\"8\" halign=\"left\">popularity</th>\n",
       "    </tr>\n",
       "    <tr>\n",
       "      <th></th>\n",
       "      <th>count</th>\n",
       "      <th>mean</th>\n",
       "      <th>std</th>\n",
       "      <th>min</th>\n",
       "      <th>25%</th>\n",
       "      <th>50%</th>\n",
       "      <th>75%</th>\n",
       "      <th>max</th>\n",
       "      <th>count</th>\n",
       "      <th>mean</th>\n",
       "      <th>...</th>\n",
       "      <th>75%</th>\n",
       "      <th>max</th>\n",
       "      <th>count</th>\n",
       "      <th>mean</th>\n",
       "      <th>std</th>\n",
       "      <th>min</th>\n",
       "      <th>25%</th>\n",
       "      <th>50%</th>\n",
       "      <th>75%</th>\n",
       "      <th>max</th>\n",
       "    </tr>\n",
       "    <tr>\n",
       "      <th>cluster</th>\n",
       "      <th></th>\n",
       "      <th></th>\n",
       "      <th></th>\n",
       "      <th></th>\n",
       "      <th></th>\n",
       "      <th></th>\n",
       "      <th></th>\n",
       "      <th></th>\n",
       "      <th></th>\n",
       "      <th></th>\n",
       "      <th></th>\n",
       "      <th></th>\n",
       "      <th></th>\n",
       "      <th></th>\n",
       "      <th></th>\n",
       "      <th></th>\n",
       "      <th></th>\n",
       "      <th></th>\n",
       "      <th></th>\n",
       "      <th></th>\n",
       "      <th></th>\n",
       "    </tr>\n",
       "  </thead>\n",
       "  <tbody>\n",
       "    <tr>\n",
       "      <th>0</th>\n",
       "      <td>39223.0</td>\n",
       "      <td>5.650562</td>\n",
       "      <td>10.172184</td>\n",
       "      <td>1.0</td>\n",
       "      <td>2.00</td>\n",
       "      <td>3.0</td>\n",
       "      <td>6.00</td>\n",
       "      <td>272.0</td>\n",
       "      <td>39223.0</td>\n",
       "      <td>1.902141</td>\n",
       "      <td>...</td>\n",
       "      <td>2.0</td>\n",
       "      <td>3.0</td>\n",
       "      <td>39223.0</td>\n",
       "      <td>12.341330</td>\n",
       "      <td>25.078483</td>\n",
       "      <td>1.0</td>\n",
       "      <td>3.0</td>\n",
       "      <td>7.0</td>\n",
       "      <td>13.0</td>\n",
       "      <td>691.0</td>\n",
       "    </tr>\n",
       "    <tr>\n",
       "      <th>1</th>\n",
       "      <td>87396.0</td>\n",
       "      <td>14.182743</td>\n",
       "      <td>26.752487</td>\n",
       "      <td>1.0</td>\n",
       "      <td>3.00</td>\n",
       "      <td>5.0</td>\n",
       "      <td>13.00</td>\n",
       "      <td>261.0</td>\n",
       "      <td>87396.0</td>\n",
       "      <td>3.790541</td>\n",
       "      <td>...</td>\n",
       "      <td>5.0</td>\n",
       "      <td>5.0</td>\n",
       "      <td>87396.0</td>\n",
       "      <td>51.732127</td>\n",
       "      <td>96.650548</td>\n",
       "      <td>3.0</td>\n",
       "      <td>10.0</td>\n",
       "      <td>20.0</td>\n",
       "      <td>46.0</td>\n",
       "      <td>951.0</td>\n",
       "    </tr>\n",
       "    <tr>\n",
       "      <th>2</th>\n",
       "      <td>1152.0</td>\n",
       "      <td>467.754340</td>\n",
       "      <td>254.233745</td>\n",
       "      <td>223.0</td>\n",
       "      <td>292.75</td>\n",
       "      <td>385.0</td>\n",
       "      <td>555.75</td>\n",
       "      <td>1904.0</td>\n",
       "      <td>1152.0</td>\n",
       "      <td>3.575070</td>\n",
       "      <td>...</td>\n",
       "      <td>4.0</td>\n",
       "      <td>5.0</td>\n",
       "      <td>1152.0</td>\n",
       "      <td>1661.188368</td>\n",
       "      <td>892.994140</td>\n",
       "      <td>712.0</td>\n",
       "      <td>1039.5</td>\n",
       "      <td>1361.0</td>\n",
       "      <td>1981.0</td>\n",
       "      <td>6428.0</td>\n",
       "    </tr>\n",
       "  </tbody>\n",
       "</table>\n",
       "<p>3 rows × 32 columns</p>\n",
       "</div>"
      ],
      "text/plain": [
       "        frequency                                                        \\\n",
       "            count        mean         std    min     25%    50%     75%   \n",
       "cluster                                                                   \n",
       "0         39223.0    5.650562   10.172184    1.0    2.00    3.0    6.00   \n",
       "1         87396.0   14.182743   26.752487    1.0    3.00    5.0   13.00   \n",
       "2          1152.0  467.754340  254.233745  223.0  292.75  385.0  555.75   \n",
       "\n",
       "                    mean             ...   median      popularity  \\\n",
       "            max    count      mean   ...      75%  max      count   \n",
       "cluster                              ...                            \n",
       "0         272.0  39223.0  1.902141   ...      2.0  3.0    39223.0   \n",
       "1         261.0  87396.0  3.790541   ...      5.0  5.0    87396.0   \n",
       "2        1904.0   1152.0  3.575070   ...      4.0  5.0     1152.0   \n",
       "\n",
       "                                                                         \n",
       "                mean         std    min     25%     50%     75%     max  \n",
       "cluster                                                                  \n",
       "0          12.341330   25.078483    1.0     3.0     7.0    13.0   691.0  \n",
       "1          51.732127   96.650548    3.0    10.0    20.0    46.0   951.0  \n",
       "2        1661.188368  892.994140  712.0  1039.5  1361.0  1981.0  6428.0  \n",
       "\n",
       "[3 rows x 32 columns]"
      ]
     },
     "execution_count": 6,
     "metadata": {},
     "output_type": "execute_result"
    }
   ],
   "source": [
    "data.groupby(\"cluster\").describe()"
   ]
  },
  {
   "cell_type": "code",
   "execution_count": 8,
   "metadata": {},
   "outputs": [
    {
     "data": {
      "image/png": "[encoded data removed]",
      "text/plain": [
       "<Figure size 432x288 with 1 Axes>"
      ]
     },
     "metadata": {
      "needs_background": "light"
     },
     "output_type": "display_data"
    },
    {
     "data": {
      "image/png": "[encoded data removed]",
      "text/plain": [
       "<Figure size 432x288 with 1 Axes>"
      ]
     },
     "metadata": {
      "needs_background": "light"
     },
     "output_type": "display_data"
    },
    {
     "data": {
      "image/png": "[encoded data removed]",
      "text/plain": [
       "<Figure size 432x288 with 1 Axes>"
      ]
     },
     "metadata": {
      "needs_background": "light"
     },
     "output_type": "display_data"
    }
   ],
   "source": [
    "# Boxplot of the mean\n",
    "mean_boxplot = sns.boxplot(x=\"cluster\", y=\"mean\",data=data)\n",
    "mean_boxplot.set_title(\"boxplot of the mean by cluster\")\n",
    "plt.show()\n",
    "#Boxplot of the popularity\n",
    "pop_boxplot = sns.boxplot(x=\"cluster\", y=\"popularity\",data=data)\n",
    "pop_boxplot.set_title(\"boxplot of the popularity by cluster\")\n",
    "plt.show()\n",
    "\n",
    "#Boxplot of the frequency\n",
    "freq_boxplot = sns.boxplot(x=\"cluster\", y=\"frequency\",data=data)\n",
    "freq_boxplot.set_title(\"boxplot of the frequency by cluster\")\n",
    "plt.show()"
   ]
  }
 ],
 "metadata": {
  "kernelspec": {
   "display_name": "Python 3",
   "language": "python",
   "name": "python3"
  },
  "language_info": {
   "codemirror_mode": {
    "name": "ipython",
    "version": 3
   },
   "file_extension": ".py",
   "mimetype": "text/x-python",
   "name": "python",
   "nbconvert_exporter": "python",
   "pygments_lexer": "ipython3",
   "version": "3.7.1"
  }
 },
 "nbformat": 4,
 "nbformat_minor": 2
}
